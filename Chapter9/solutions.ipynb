{
 "cells": [
  {
   "metadata": {},
   "cell_type": "markdown",
   "source": [
    "Here are the answers to your practice questions:\n",
    "\n",
    "1. **What is a relative path relative to?**\n",
    "   - A relative path is relative to the current working directory (the folder in which the Python script is being executed).\n",
    "\n",
    "2. **What does an absolute path start with?**\n",
    "   - An absolute path starts with the root directory of the filesystem. On Windows, it typically starts with a drive letter (e.g., `C:/` or `D:/`), while on Unix-based systems (like Linux or macOS), it starts with a `/`.\n",
    "\n",
    "3. **What does `Path('C:/Users') / 'Al'` evaluate to on Windows?**\n",
    "   - This evaluates to `C:/Users/Al`. The `/` operator is overloaded in the `pathlib` module in Python, allowing you to concatenate paths in a platform-independent way.\n",
    "\n",
    "4. **What does `'C:/Users' / 'Al'` evaluate to on Windows?**\n",
    "   - This will raise a `TypeError` because string objects do not support the `/` operator. To work with paths, you need to use `pathlib.Path`.\n",
    "\n",
    "5. **What do the `os.getcwd()` and `os.chdir()` functions do?**\n",
    "   - `os.getcwd()` returns the current working directory as a string. \n",
    "   - `os.chdir(path)` changes the current working directory to the specified `path`.\n",
    "\n",
    "6. **What are the `.` and `..` folders?**\n",
    "   - `.` represents the current directory.\n",
    "   - `..` represents the parent directory (one level up from the current directory).\n",
    "\n",
    "7. **In `C:\\bacon\\eggs\\spam.txt`, which part is the dir name, and which part is the base name?**\n",
    "   - The directory name is `C:\\bacon\\eggs`, and the base name is `spam.txt`.\n",
    "\n",
    "8. **What are the three “mode” arguments that can be passed to the `open()` function?**\n",
    "   - The three commonly used mode arguments are:\n",
    "     - `'r'` - Read mode (default). Opens a file for reading.\n",
    "     - `'w'` - Write mode. Opens a file for writing (overwrites the file if it exists).\n",
    "     - `'a'` - Append mode. Opens a file for writing (appends to the file if it exists).\n",
    "\n",
    "9. **What happens if an existing file is opened in write mode?**\n",
    "   - If an existing file is opened in write mode (`'w'`), it will be truncated to zero length, effectively deleting its contents. If the file does not exist, it will be created.\n",
    "\n",
    "10. **What is the difference between the `read()` and `readlines()` methods?**\n",
    "    - `read()` reads the entire content of a file as a single string.\n",
    "    - `readlines()` reads the file line by line and returns a list of lines.\n",
    "\n",
    "11. **What data structure does a shelf value resemble?**\n",
    "    - A shelf value resembles a dictionary. It is a persistent, dictionary-like object provided by the `shelve` module in Python, allowing you to store key-value pairs on disk."
   ],
   "id": "1c368b4d3a2305ab"
  },
  {
   "metadata": {},
   "cell_type": "code",
   "outputs": [],
   "execution_count": null,
   "source": "",
   "id": "412a731aad611a10"
  }
 ],
 "metadata": {
  "kernelspec": {
   "display_name": "Python 3",
   "language": "python",
   "name": "python3"
  },
  "language_info": {
   "codemirror_mode": {
    "name": "ipython",
    "version": 2
   },
   "file_extension": ".py",
   "mimetype": "text/x-python",
   "name": "python",
   "nbconvert_exporter": "python",
   "pygments_lexer": "ipython2",
   "version": "2.7.6"
  }
 },
 "nbformat": 4,
 "nbformat_minor": 5
}
