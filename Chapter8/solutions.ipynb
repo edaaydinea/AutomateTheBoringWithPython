{
 "cells": [
  {
   "cell_type": "markdown",
   "metadata": {},
   "source": [
    "1. **Does PyInputPlus come with the Python Standard Library?**\n",
    "   - No, `PyInputPlus` does not come with the Python Standard Library. It is an external module and must be installed using `pip` (e.g., `pip install pyinputplus`).\n",
    "\n",
    "2. **Why is PyInputPlus commonly imported with `import pyinputplus as pyip`?**\n",
    "   - This is done to make the code more concise. Instead of typing `pyinputplus.inputInt()` or `pyinputplus.inputStr()`, you can shorten it to `pyip.inputInt()` or `pyip.inputStr()`, improving readability.\n",
    "\n",
    "3. **What is the difference between `inputInt()` and `inputFloat()`?**\n",
    "   - `inputInt()` ensures that the user enters an integer (whole number), while `inputFloat()` allows the user to enter a floating-point number (i.e., numbers that can have a decimal part).\n",
    "\n",
    "4. **How can you ensure that the user enters a whole number between 0 and 99 using PyInputPlus?**\n",
    "   - You can use the `min` and `max` parameters of `inputInt()`. For example:\n",
    "     ```python\n",
    "     pyip.inputInt(min=0, max=99)\n",
    "     ```\n",
    "\n",
    "5. **What is passed to the `allowRegexes` and `blockRegexes` keyword arguments?**\n",
    "   - Lists of regex strings are passed to `allowRegexes` and `blockRegexes`. `allowRegexes` lets certain patterns be accepted as valid input, while `blockRegexes` specifies patterns that should not be accepted.\n",
    "\n",
    "6. **What does `inputStr(limit=3)` do if blank input is entered three times?**\n",
    "   - After three blank inputs, a `RetryLimitException` will be raised since the user exceeded the input limit.\n",
    "\n",
    "7. **What does `inputStr(limit=3, default='hello')` do if blank input is entered three times?**\n",
    "   - If blank input is entered three times, the function will return the default value `'hello'` instead of raising an exception."
   ]
  }
 ],
 "metadata": {
  "language_info": {
   "name": "python"
  }
 },
 "nbformat": 4,
 "nbformat_minor": 2
}
