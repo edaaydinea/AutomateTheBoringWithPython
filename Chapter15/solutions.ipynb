{
 "cells": [
  {
   "cell_type": "markdown",
   "metadata": {},
   "source": [
    "1. **A string value of the PDF filename is not passed to the PyPDF2.PdfFileReader() function. What do you pass to the function instead?**  \n",
    "   - You pass a **file object** (opened in binary mode) to the `PdfFileReader()` function.\n",
    "\n",
    "2. **What modes do the File objects for PdfFileReader() and PdfFileWriter() need to be opened in?**  \n",
    "   - For `PdfFileReader()`, the file should be opened in **'rb'** (read binary) mode.  \n",
    "   - For `PdfFileWriter()`, the file should be opened in **'wb'** (write binary) mode.\n",
    "\n",
    "3. **How do you acquire a Page object for page 5 from a PdfFileReader object?**  \n",
    "   - Use the `getPage(4)` method on the `PdfFileReader` object (since page indexing starts from 0).\n",
    "\n",
    "4. **What PdfFileReader variable stores the number of pages in the PDF document?**  \n",
    "   - The `numPages` attribute stores the number of pages.\n",
    "\n",
    "5. **If a PdfFileReader object’s PDF is encrypted with the password swordfish, what must you do before you can obtain Page objects from it?**  \n",
    "   - You must call the `decrypt('swordfish')` method on the `PdfFileReader` object before accessing the pages.\n",
    "\n",
    "6. **What methods do you use to rotate a page?**  \n",
    "   - You can use `rotateClockwise(degrees)` or `rotateCounterClockwise(degrees)` on a page object.\n",
    "\n",
    "7. **What method returns a Document object for a file named demo.docx?**  \n",
    "   - `docx.Document('demo.docx')` returns a `Document` object.\n",
    "\n",
    "8. **What is the difference between a Paragraph object and a Run object?**  \n",
    "   - A **Paragraph** object represents a block of text (a paragraph), while a **Run** object is a segment of text within a paragraph with the same style (e.g., bold, italic). Multiple Runs can exist within a single Paragraph.\n",
    "\n",
    "9. **How do you obtain a list of Paragraph objects for a Document object that’s stored in a variable named doc?**  \n",
    "   - Use `doc.paragraphs` to get the list of Paragraph objects.\n",
    "\n",
    "10. **What type of object has bold, underline, italic, strike, and outline variables?**  \n",
    "    - A **Run** object has these formatting variables.\n",
    "\n",
    "11. **What is the difference between setting the bold variable to True, False, or None?**  \n",
    "    - **True** applies bold formatting,  \n",
    "      **False** removes bold formatting,  \n",
    "      **None** leaves the bold formatting unchanged (inherits style from parent).\n",
    "\n",
    "12. **How do you create a Document object for a new Word document?**  \n",
    "    - Use `docx.Document()` to create a new `Document` object.\n",
    "\n",
    "13. **How do you add a paragraph with the text 'Hello, there!' to a Document object stored in a variable named doc?**  \n",
    "    - Use `doc.add_paragraph('Hello, there!')`.\n",
    "\n",
    "14. **What integers represent the levels of headings available in Word documents?**  \n",
    "    - The heading levels are represented by integers **1** through **9**, with 1 being the highest level (Heading 1)."
   ]
  }
 ],
 "metadata": {
  "language_info": {
   "name": "python"
  }
 },
 "nbformat": 4,
 "nbformat_minor": 2
}
