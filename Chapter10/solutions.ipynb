{
 "cells": [
  {
   "cell_type": "markdown",
   "metadata": {},
   "source": [
    "1. **What is the difference between `shutil.copy()` and `shutil.copytree()`?**\n",
    "   - `shutil.copy()` is used to copy a single file from one location to another. It takes two arguments: the source file and the destination file or directory.\n",
    "   - `shutil.copytree()` is used to recursively copy an entire directory tree (including all subdirectories and files) from one location to another.\n",
    "\n",
    "2. **What function is used to rename files?**\n",
    "   - The `os.rename()` function is used to rename files or directories in Python. It takes two arguments: the current filename and the new filename.\n",
    "\n",
    "3. **What is the difference between the delete functions in the `send2trash` and `shutil` modules?**\n",
    "   - The `send2trash` module’s delete function moves files or directories to the operating system's trash or recycle bin, allowing for recovery if deleted by mistake.\n",
    "   - The `shutil.rmtree()` function in the `shutil` module permanently deletes files or directories without sending them to the trash, meaning they cannot be recovered easily.\n",
    "\n",
    "4. **ZipFile objects have a `close()` method just like File objects’ `close()` method. What ZipFile method is equivalent to File objects’ `open()` method?**\n",
    "   - The `ZipFile()` constructor method is equivalent to the `open()` method for file objects. It is used to open a ZIP file for reading or writing. You can specify the mode (e.g., 'r' for read, 'w' for write) when calling `ZipFile()`."
   ]
  }
 ],
 "metadata": {
  "language_info": {
   "name": "python"
  }
 },
 "nbformat": 4,
 "nbformat_minor": 2
}
