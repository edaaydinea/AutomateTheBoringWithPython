{
 "cells": [
  {
   "cell_type": "markdown",
   "metadata": {},
   "source": [
    "Here are the answers to the practice questions:\n",
    "\n",
    "1. **What are some features Excel spreadsheets have that CSV spreadsheets don’t?**\n",
    "   - Excel spreadsheets can have multiple sheets (tabs), cell formatting (colors, fonts, borders), formulas, charts, and more advanced data types (like dates and currency). CSV files are plain text and can only store simple tabular data without any formatting, formulas, or multiple sheets.\n",
    "\n",
    "2. **What do you pass to `csv.reader()` and `csv.writer()` to create reader and writer objects?**\n",
    "   - You pass a `File` object to `csv.reader()` to create a reader object and a `File` object to `csv.writer()` to create a writer object.\n",
    "\n",
    "3. **What modes do File objects for reader and writer objects need to be opened in?**\n",
    "   - For `csv.reader()`, the `File` object should be opened in **read mode** (`'r'`).\n",
    "   - For `csv.writer()`, the `File` object should be opened in **write mode** (`'w'`).\n",
    "\n",
    "4. **What method takes a list argument and writes it to a CSV file?**\n",
    "   - The `writerow()` method of a `csv.writer` object takes a list argument and writes it as a row to the CSV file.\n",
    "\n",
    "5. **What do the `delimiter` and `lineterminator` keyword arguments do?**\n",
    "   - The `delimiter` keyword argument specifies the character that separates values in the CSV file (e.g., `','` for commas or `'\\t'` for tabs).\n",
    "   - The `lineterminator` keyword argument specifies the character that is used at the end of each row (e.g., `'\\n'` for a new line or `'\\r\\n'` for carriage return and line feed).\n",
    "\n",
    "6. **What function takes a string of JSON data and returns a Python data structure?**\n",
    "   - The `json.loads()` function takes a string of JSON data and converts it into a Python data structure (like a dictionary or list).\n",
    "\n",
    "7. **What function takes a Python data structure and returns a string of JSON data?**\n",
    "   - The `json.dumps()` function takes a Python data structure (such as a dictionary or list) and converts it into a JSON-formatted string."
   ]
  }
 ],
 "metadata": {
  "language_info": {
   "name": "python"
  }
 },
 "nbformat": 4,
 "nbformat_minor": 2
}
