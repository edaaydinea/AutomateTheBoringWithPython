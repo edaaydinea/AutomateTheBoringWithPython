{
 "cells": [
  {
   "cell_type": "markdown",
   "metadata": {},
   "source": [
    "1. **What does the code for an empty dictionary look like?**  \n",
    "   ```python\n",
    "   empty_dict = {}\n",
    "   ```\n",
    "\n"
   ]
  },
  {
   "cell_type": "markdown",
   "metadata": {},
   "source": [
    "2. **What does a dictionary value with a key 'foo' and a value 42 look like?**  \n",
    "   ```python\n",
    "   my_dict = {'foo': 42}\n",
    "   ```\n",
    "\n"
   ]
  },
  {
   "cell_type": "markdown",
   "metadata": {},
   "source": [
    "3. **What is the main difference between a dictionary and a list?**  \n",
    "   - A **dictionary** is a collection of key-value pairs where each key is unique, and values can be of any type. It allows for fast access to values based on their keys.\n",
    "   - A **list** is an ordered collection of items indexed by their position (0, 1, 2, etc.). Lists can contain duplicate values and are accessed by their index.\n",
    "\n"
   ]
  },
  {
   "cell_type": "markdown",
   "metadata": {},
   "source": [
    "4. **What happens if you try to access spam['foo'] if spam is {'bar': 100}?**  \n",
    "   - You will get a `KeyError` because the key `'foo'` does not exist in the dictionary `spam`.\n",
    "\n"
   ]
  },
  {
   "cell_type": "markdown",
   "metadata": {},
   "source": [
    "5. **If a dictionary is stored in spam, what is the difference between the expressions 'cat' in spam and 'cat' in spam.keys()?**  \n",
    "   - Both expressions check if the key `'cat'` exists in the dictionary. They are equivalent; however, using `'cat' in spam` is more concise and directly checks for the key in the dictionary, while `'cat' in spam.keys()` explicitly checks the keys.\n",
    "\n"
   ]
  },
  {
   "cell_type": "markdown",
   "metadata": {},
   "source": [
    "  - A **list** is an ordered collection of items indexed by their position (0, 1, 2, etc.). Lists can contain duplicate values and are accessed by their index.\n",
    "\n",
    "4. **What happens if you try to access spam['foo'] if spam is {'bar': 100}?**  \n",
    "   - You will get a `KeyError` because the key `'foo'` does not exist in the dictionary `spam`.\n",
    "\n",
    "5. **If a dictionary is stored in spam, what is the difference between the expressions 'cat' in spam and 'cat' in spam.keys()?**  \n",
    "   - Both expressions check if the key `'cat'` exists in the dictionary. They are equivalent; however, using `'cat' in spam` is more concise and directly checks for the key in the dictionary, while `'cat' in spam.keys()` explicitly checks the keys.\n",
    "\n"
   ]
  },
  {
   "cell_type": "markdown",
   "metadata": {},
   "source": [
    "6. **If a dictionary is stored in spam, what is the difference between the expressions 'cat' in spam and 'cat' in spam.values()?**  \n",
    "   - `'cat' in spam` checks if `'cat'` is one of the keys in the dictionary.  \n",
    "   - `'cat' in spam.values()` checks if `'cat'` is one of the values in the dictionary. These expressions check different things: one for keys and one for values.\n",
    "\n"
   ]
  },
  {
   "cell_type": "markdown",
   "metadata": {},
   "source": [
    "7. **What is a shortcut for the following code?**  \n",
    "   ```python\n",
    "   if 'color' not in spam:\n",
    "       spam['color'] = 'black'\n",
    "   ```\n",
    "   - You can use the `setdefault()` method:\n",
    "   ```python\n",
    "   spam.setdefault('color', 'black')\n",
    "   ```\n",
    "\n"
   ]
  },
  {
   "cell_type": "markdown",
   "metadata": {},
   "source": [
    "8. **What module and function can be used to “pretty print” dictionary values?**  \n",
    "   - You can use the `pprint` module and its `pprint()` function:\n",
    "   ```python\n",
    "   from pprint import pprint\n",
    "   ```"
   ]
  }
 ],
 "metadata": {
  "language_info": {
   "name": "python"
  }
 },
 "nbformat": 4,
 "nbformat_minor": 2
}
