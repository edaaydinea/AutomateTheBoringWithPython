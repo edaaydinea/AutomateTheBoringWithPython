{
 "cells": [
  {
   "cell_type": "markdown",
   "metadata": {},
   "source": [
    "1. **Operators vs. Values:**\n",
    "   - Operators: `*`, `-`, `/`, `+`\n",
    "   - Values: `'hello'`, `-88.8`, `5`\n",
    "\n",
    "2. **Variable vs. String:**\n",
    "   - Variable: `spam`\n",
    "   - String: `'spam'`\n",
    "\n",
    "3. **Three Data Types:**\n",
    "   - Integer (e.g., `5`)\n",
    "   - Float (e.g., `-88.8`)\n",
    "   - String (e.g., `'hello'`)\n",
    "\n",
    "4. **Expression Composition and Function:**\n",
    "   - An expression is made up of values, variables, and operators. \n",
    "   - All expressions evaluate to a value.\n",
    "\n",
    "5. **Difference Between an Expression and a Statement:**\n",
    "   - An **expression** is a combination of values, variables, and operators that evaluates to a value (e.g., `2 + 2`).\n",
    "   - A **statement** is a line of code that performs an action but does not necessarily return a value (e.g., `spam = 10`).\n",
    "\n",
    "6. **Value of `bacon` After Code Runs:**\n",
    "   - After running `bacon = 20` followed by `bacon + 1`, the variable `bacon` still contains `20`. The expression `bacon + 1` is not assigned to any variable, so it has no effect.\n",
    "\n",
    "7. **Evaluation of Expressions:**\n",
    "   - `'spam' + 'spamspam'` evaluates to `'spamspamspam'`.\n",
    "   - `'spam' * 3` evaluates to `'spamspamspam'`.\n",
    "\n",
    "8. **Valid Variable Name:**\n",
    "   - `eggs` is a valid variable name because it starts with a letter and consists of letters and/or numbers. `100` is invalid because variable names cannot start with a digit.\n",
    "\n",
    "9. **Functions for Value Conversion:**\n",
    "   - `int()`: Converts a value to an integer.\n",
    "   - `float()`: Converts a value to a floating-point number.\n",
    "   - `str()`: Converts a value to a string.\n",
    "\n",
    "10. **Error in Expression:**\n",
    "    - The expression `'I have eaten ' + 99 + ' burritos.'` causes an error because you cannot concatenate a string and an integer. \n",
    "    - To fix it, convert the integer to a string: `'I have eaten ' + str(99) + ' burritos.'`.\n",
    "\n",
    "**Extra Credit:**\n",
    "- The `round()` function in Python rounds a floating-point number to the nearest integer or to a specified number of decimal places. You can experiment with it by using `round(value)` or `round(value, ndigits)` in the interactive shell. For example:\n",
    "  - `round(3.7)` evaluates to `4`.\n",
    "  - `round(3.14159, 2)` evaluates to `3.14`."
   ]
  }
 ],
 "metadata": {
  "language_info": {
   "name": "python"
  }
 },
 "nbformat": 4,
 "nbformat_minor": 2
}
