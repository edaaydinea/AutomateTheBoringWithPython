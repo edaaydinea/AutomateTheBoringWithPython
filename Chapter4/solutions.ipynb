{
 "cells": [
  {
   "cell_type": "markdown",
   "metadata": {},
   "source": [
    "1. **What is `[]`?**\n",
    "   - `[]` represents an empty list in Python."
   ]
  },
  {
   "cell_type": "markdown",
   "metadata": {},
   "source": [
    "2. **How would you assign the value `'hello'` as the third value in a list stored in a variable named `spam`? (Assume `spam` contains `[2, 4, 6, 8, 10]`.)**\n",
    "   - `spam[2] = 'hello'`\n",
    "\n"
   ]
  },
  {
   "cell_type": "markdown",
   "metadata": {},
   "source": [
    "3. **What does `spam[int(int('3' * 2) // 11)]` evaluate to? (Assume `spam` contains `['a', 'b', 'c', 'd']`.)**\n",
    "   - `'3' * 2` becomes `'33'`, then `int('33')` becomes `33`, and `33 // 11` equals `3`. Therefore, `spam[3]` evaluates to `'d'`.\n",
    "\n"
   ]
  },
  {
   "cell_type": "markdown",
   "metadata": {},
   "source": [
    "4. **What does `spam[-1]` evaluate to?**\n",
    "   - `'d'` (The last item in the list `['a', 'b', 'c', 'd']`.)\n",
    "\n"
   ]
  },
  {
   "cell_type": "markdown",
   "metadata": {},
   "source": [
    "5. **What does `spam[:2]` evaluate to?**\n",
    "   - `['a', 'b']` (The slice includes items from index 0 up to, but not including, index 2.)\n",
    "\n"
   ]
  },
  {
   "cell_type": "markdown",
   "metadata": {},
   "source": [
    "6. **What does `bacon.index('cat')` evaluate to? (Assume `bacon` contains `[3.14, 'cat', 11, 'cat', True]`.)**\n",
    "   - `1` (The index of the first occurrence of `'cat'`.)\n",
    "\n"
   ]
  },
  {
   "cell_type": "markdown",
   "metadata": {},
   "source": [
    "7. **What does `bacon.append(99)` make the list value in `bacon` look like?**\n",
    "   - `[3.14, 'cat', 11, 'cat', True, 99]` (The value `99` is added at the end of the list.)\n",
    "\n"
   ]
  },
  {
   "cell_type": "markdown",
   "metadata": {},
   "source": [
    "8. **What does `bacon.remove('cat')` make the list value in `bacon` look like?**\n",
    "   - `[3.14, 11, 'cat', True]` (The first occurrence of `'cat'` is removed.)\n",
    "\n"
   ]
  },
  {
   "cell_type": "markdown",
   "metadata": {},
   "source": [
    "9. **What are the operators for list concatenation and list replication?**\n",
    "   - List concatenation: `+`  \n",
    "   - List replication: `*`\n",
    "\n"
   ]
  },
  {
   "cell_type": "markdown",
   "metadata": {},
   "source": [
    "10. **What is the difference between the `append()` and `insert()` list methods?**\n",
    "    - `append()` adds a value at the end of the list.\n",
    "    - `insert()` adds a value at a specified index in the list.\n",
    "\n"
   ]
  },
  {
   "cell_type": "markdown",
   "metadata": {},
   "source": [
    "11. **What are two ways to remove values from a list?**\n",
    "    - `remove()` (removes the first occurrence of a specified value)  \n",
    "    - `pop()` (removes and returns an item at a specific index, defaulting to the last item)\n",
    "\n"
   ]
  },
  {
   "cell_type": "markdown",
   "metadata": {},
   "source": [
    "12. **Name a few ways that list values are similar to string values.**\n",
    "    - Both are sequences that support indexing, slicing, and iteration.\n",
    "    - Both can be concatenated using `+` and replicated using `*`.\n",
    "\n"
   ]
  },
  {
   "cell_type": "markdown",
   "metadata": {},
   "source": [
    "13. **What is the difference between lists and tuples?**\n",
    "    - Lists are mutable (you can change their elements), while tuples are immutable (their elements cannot be changed after creation).\n",
    "\n"
   ]
  },
  {
   "cell_type": "markdown",
   "metadata": {},
   "source": [
    "14. **How do you type the tuple value that has just the integer value 42 in it?**\n",
    "    - `(42,)` (The comma is necessary to distinguish it from a regular parenthesis.)\n",
    "\n"
   ]
  },
  {
   "cell_type": "markdown",
   "metadata": {},
   "source": [
    "15. **How can you get the tuple form of a list value? How can you get the list form of a tuple value?**\n",
    "    - To convert a list to a tuple: `tuple(list_value)`  \n",
    "    - To convert a tuple to a list: `list(tuple_value)`\n",
    "\n"
   ]
  },
  {
   "cell_type": "markdown",
   "metadata": {},
   "source": [
    "16. **Variables that “contain” list values don’t actually contain lists directly. What do they contain instead?**\n",
    "    - They contain references to the list objects.\n",
    "\n"
   ]
  },
  {
   "cell_type": "markdown",
   "metadata": {},
   "source": [
    "17. **What is the difference between `copy.copy()` and `copy.deepcopy()`?**\n",
    "    - `copy.copy()` creates a shallow copy (copies the object but not the nested objects).  \n",
    "    - `copy.deepcopy()` creates a deep copy (copies the object and all nested objects, creating completely independent duplicates)."
   ]
  }
 ],
 "metadata": {
  "language_info": {
   "name": "python"
  }
 },
 "nbformat": 4,
 "nbformat_minor": 2
}
