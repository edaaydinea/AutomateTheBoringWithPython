{
 "cells": [
  {
   "cell_type": "markdown",
   "metadata": {},
   "source": [
    "1. **What is an RGBA value?**\n",
    "   - RGBA stands for Red, Green, Blue, and Alpha. It is a color model that defines a color's intensity for the red, green, and blue channels, plus an alpha channel that determines transparency. Each channel's value ranges from 0 to 255, where the alpha channel specifies how opaque the color is (0 is fully transparent, 255 is fully opaque).\n",
    "\n",
    "2. **How can you get the RGBA value of 'CornflowerBlue' from the Pillow module?**\n",
    "   - You can use the `ImageColor.getcolor()` function from the Pillow module to get the RGBA value of 'CornflowerBlue':\n",
    "     ```python\n",
    "     from PIL import ImageColor\n",
    "     rgba_value = ImageColor.getcolor('CornflowerBlue', 'RGBA')\n",
    "     print(rgba_value)\n",
    "     ```\n",
    "\n",
    "3. **What is a box tuple?**\n",
    "   - A box tuple is a tuple of four integers that defines a rectangular area in an image. The format is `(left, upper, right, lower)`, where:\n",
    "     - `left` is the x-coordinate of the left edge,\n",
    "     - `upper` is the y-coordinate of the top edge,\n",
    "     - `right` is the x-coordinate of the right edge, and\n",
    "     - `lower` is the y-coordinate of the bottom edge.\n",
    "\n",
    "4. **What function returns an Image object for, say, an image file named `zophie.png`?**\n",
    "   - The `Image.open()` function returns an Image object for an image file:\n",
    "     ```python\n",
    "     from PIL import Image\n",
    "     img = Image.open('zophie.png')\n",
    "     ```\n",
    "\n",
    "5. **How can you find out the width and height of an Image object’s image?**\n",
    "   - You can use the `size` attribute of the Image object, which returns a tuple `(width, height)`:\n",
    "     ```python\n",
    "     width, height = img.size\n",
    "     ```\n",
    "\n",
    "6. **What method would you call to get an Image object for a 100×100 image, excluding the lower-left quarter of it?**\n",
    "   - You can use the `crop()` method and specify the box tuple that excludes the lower-left quarter. For example:\n",
    "     ```python\n",
    "     cropped_img = img.crop((50, 0, 100, 50))\n",
    "     ```\n",
    "\n",
    "7. **After making changes to an Image object, how could you save it as an image file?**\n",
    "   - You can use the `save()` method to save the modified Image object:\n",
    "     ```python\n",
    "     img.save('new_image.png')\n",
    "     ```\n",
    "\n",
    "8. **What module contains Pillow’s shape-drawing code?**\n",
    "   - The `ImageDraw` module contains Pillow's shape-drawing code. You can use it to draw shapes like lines, rectangles, circles, etc.\n",
    "\n",
    "9. **Image objects do not have drawing methods. What kind of object does? How do you get this kind of object?**\n",
    "   - The `ImageDraw` object has drawing methods. You can create it by passing an Image object to `ImageDraw.Draw()`:\n",
    "     ```python\n",
    "     from PIL import ImageDraw\n",
    "     draw = ImageDraw.Draw(img)\n",
    "     ```"
   ]
  }
 ],
 "metadata": {
  "language_info": {
   "name": "python"
  }
 },
 "nbformat": 4,
 "nbformat_minor": 2
}
