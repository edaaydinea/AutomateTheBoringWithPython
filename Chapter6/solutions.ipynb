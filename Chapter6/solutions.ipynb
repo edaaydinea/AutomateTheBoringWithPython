{
 "cells": [
  {
   "cell_type": "markdown",
   "metadata": {},
   "source": [
    "1. **What are escape characters?**\n",
    "   - Escape characters are special characters used in strings to represent certain whitespace or non-printable characters. They begin with a backslash (`\\`) and are followed by one or more characters to create a new meaning.\n"
   ]
  },
  {
   "cell_type": "markdown",
   "metadata": {},
   "source": [
    "2. **What do the \\n and \\t escape characters represent?**\n",
    "   - `\\n`: Newline (moves the cursor to the next line)\n",
    "   - `\\t`: Tab (inserts a horizontal tab space)\n",
    "\n"
   ]
  },
  {
   "cell_type": "markdown",
   "metadata": {},
   "source": [
    "3. **How can you put a \\ backslash character in a string?**\n",
    "   - You can include a backslash in a string by escaping it with another backslash: `\\\\`.\n",
    "\n"
   ]
  },
  {
   "cell_type": "markdown",
   "metadata": {},
   "source": [
    "4. **The string value \"Howl's Moving Castle\" is a valid string. Why isn’t it a problem that the single quote character in the word Howl's isn’t escaped?**\n",
    "   - It’s not a problem because the string is enclosed in double quotes (`\"`). The single quote inside the string is treated as a normal character and doesn’t need to be escaped.\n",
    "\n"
   ]
  },
  {
   "cell_type": "markdown",
   "metadata": {},
   "source": [
    "5. **If you don’t want to put \\n in your string, how can you write a string with newlines in it?**\n",
    "   - You can write a string with newlines by using triple quotes (`\"\"\"` or `'''`). This allows you to insert newlines directly in the string:\n",
    "     ```python\n",
    "     \"\"\"This is a string\n",
    "     with a newline.\"\"\"\n",
    "     ```\n",
    "\n"
   ]
  },
  {
   "cell_type": "markdown",
   "metadata": {},
   "source": [
    "6. **What do the following expressions evaluate to?**\n",
    "   - `'Hello, world!'[1]`: `'e'` (second character in the string, indexing starts at 0)\n",
    "   - `'Hello, world!'[0:5]`: `'Hello'` (characters from index 0 to 4, excluding index 5)\n",
    "   - `'Hello, world!'[:5]`: `'Hello'` (same as the previous slice, starts at index 0 by default)\n",
    "   - `'Hello, world!'[3:]`: `'lo, world!'` (from index 3 to the end of the string)\n",
    "\n"
   ]
  },
  {
   "cell_type": "markdown",
   "metadata": {},
   "source": [
    "7. **What do the following expressions evaluate to?**\n",
    "   - `'Hello'.upper()`: `'HELLO'` (converts all characters to uppercase)\n",
    "   - `'Hello'.upper().isupper()`: `True` (checks if the string is fully uppercase, which it is after `upper()` is applied)\n",
    "   - `'Hello'.upper().lower()`: `'hello'` (converts to uppercase first, then back to lowercase)\n",
    "\n"
   ]
  },
  {
   "cell_type": "markdown",
   "metadata": {},
   "source": [
    "8. **What do the following expressions evaluate to?**\n",
    "   - `'Remember, remember, the fifth of November.'.split()`: `['Remember,', 'remember,', 'the', 'fifth', 'of', 'November.']` (splits the string by whitespace into a list of words)\n",
    "   - `'-'.join('There can be only one.'.split())`: `'There-can-be-only-one.'` (splits the string into words and joins them back with hyphens)\n",
    "\n"
   ]
  },
  {
   "cell_type": "markdown",
   "metadata": {},
   "source": [
    "9. **What string methods can you use to right-justify, left-justify, and center a string?**\n",
    "   - Right-justify: `rjust()`\n",
    "   - Left-justify: `ljust()`\n",
    "   - Center: `center()`\n",
    "\n"
   ]
  },
  {
   "cell_type": "markdown",
   "metadata": {},
   "source": [
    "10. **How can you trim whitespace characters from the beginning or end of a string?**\n",
    "   - To trim whitespace from the beginning: `lstrip()`\n",
    "   - To trim whitespace from the end: `rstrip()`\n",
    "   - To trim whitespace from both sides: `strip()`"
   ]
  }
 ],
 "metadata": {
  "kernelspec": {
   "display_name": "Python 3",
   "language": "python",
   "name": "python3"
  },
  "language_info": {
   "name": "python",
   "version": "3.12.5"
  }
 },
 "nbformat": 4,
 "nbformat_minor": 2
}
